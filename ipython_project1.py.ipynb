{
 "cells": [
  {
   "cell_type": "code",
   "execution_count": 47,
   "metadata": {
    "collapsed": false
   },
   "outputs": [
    {
     "name": "stdout",
     "output_type": "stream",
     "text": [
      "[(0, 0.015384615384615385, 'gl'), (0.015384615384615385, 0.023076923076923078, 'all'), (0.023076923076923078, 0.03076923076923077, 'archie'), (0.03076923076923077, 0.038461538461538464, 'several'), (0.038461538461538464, 0.046153846153846156, \"'s\"), (0.046153846153846156, 0.05384615384615385, 'writes'), (0.05384615384615385, 0.06153846153846154, 'not'), (0.06153846153846154, 0.06923076923076923, 'works'), (0.06923076923076923, 0.1, '.'), (0.1, 0.11538461538461539, 'Weiler'), (0.11538461538461539, 0.12307692307692308, 'Lee'), (0.12307692307692308, 0.16153846153846155, ','), (0.16153846153846155, 0.16923076923076924, 'Hi'), (0.16923076923076924, 0.19230769230769232, 'and'), (0.19230769230769232, 0.2, 'subject'), (0.2, 0.2153846153846154, 'but'), (0.2153846153846154, 0.2230769230769231, 'Re'), (0.2230769230769231, 0.23076923076923078, 'Westner'), (0.23076923076923078, 0.25384615384615383, 'for'), (0.25384615384615383, 0.2615384615384615, 'interface'), (0.2615384615384615, 0.2769230769230769, 'sure'), (0.2769230769230769, 0.2846153846153846, 'rpi.edu'), (0.2846153846153846, 0.29230769230769227, 'out'), (0.29230769230769227, 0.29999999999999993, '1qu36i'), (0.29999999999999993, 0.3076923076923076, 'find'), (0.3076923076923076, 0.31538461538461526, 'kh7'), (0.31538461538461526, 0.32307692307692293, 'From'), (0.32307692307692293, 0.3307692307692306, 'In'), (0.3307692307692306, 0.33846153846153826, 'sites'), (0.33846153846153826, 0.3461538461538459, 'on'), (0.3461538461538459, 0.3615384615384613, '<'), (0.3615384615384613, 0.36923076923076903, 'cardhu.mcs.dundee.ac.uk'), (0.36923076923076903, 0.3769230769230767, \"'m\"), (0.3769230769230767, 0.38461538461538436, 'dux.dundee.ac.uk'), (0.38461538461538436, 0.392307692307692, 'Subject'), (0.392307692307692, 0.3999999999999997, 'can'), (0.3999999999999997, 0.40769230769230735, 'I'), (0.40769230769230735, 0.415384615384615, 'need'), (0.415384615384615, 0.4230769230769227, 'says'), (0.4230769230769227, 0.43846153846153807, 'Jason'), (0.43846153846153807, 0.4461538461538458, 'Thanks'), (0.4461538461538458, 0.4692307692307689, 'Dominik'), (0.4692307692307689, 0.47692307692307656, 'which'), (0.47692307692307656, 0.49230769230769195, 'It'), (0.49230769230769195, 0.5230769230769228, ':'), (0.5230769230769228, 0.5538461538461535, '@'), (0.5538461538461535, 0.569230769230769, '?'), (0.569230769230769, 0.5999999999999998, '('), (0.5999999999999998, 0.6076923076923074, '-'), (0.6076923076923074, 0.6153846153846151, 'lacks'), (0.6153846153846151, 0.6461538461538459, ')'), (0.6461538461538459, 0.6538461538461535, 'ftp'), (0.6538461538461535, 0.6615384615384612, 'you'), (0.6615384615384612, 0.6692307692307689, 'dwestner'), (0.6692307692307689, 0.6769230769230765, 'cary115.its.rpi.edu'), (0.6769230769230765, 0.6846153846153842, '$'), (0.6846153846153842, 0.7692307692307688, '>'), (0.7692307692307688, 0.7846153846153843, 'weilej'), (0.7846153846153843, 0.7999999999999996, 'viewer'), (0.7999999999999996, 0.8076923076923073, 'ok'), (0.8076923076923073, 0.8307692307692304, 'it'), (0.8307692307692304, 0.8615384615384611, 'the'), (0.8615384615384611, 0.8692307692307688, 'tried'), (0.8692307692307688, 0.8769230769230765, 'Is'), (0.8769230769230765, 0.8846153846153841, 'Have'), (0.8846153846153841, 0.8923076923076918, 'PD'), (0.8923076923076918, 0.8999999999999995, 'xgrasp'), (0.8999999999999995, 0.9153846153846148, 'files'), (0.9153846153846148, 0.9230769230769225, 'article'), (0.9230769230769225, 0.9307692307692301, 'X'), (0.9307692307692301, 0.9999999999999993, '|')]\n"
     ]
    }
   ],
   "source": [
    "from nltk import word_tokenize\n",
    "from collections import Counter\n",
    "import random\n",
    "import os\n",
    "import nltk\n",
    "\n",
    "REMOVE_IRRELEVANT_TEXT = False\n",
    "ADD_SENTENCE_BUUNDARY_TAG = False\n",
    "DIFFERNTIATE_CAPS = False\n",
    "\n",
    "Classification = \"data/data_corrected/classification_task/\"\n",
    "Spelling = \"data/data_corrected/spell_checking_task/\"\n",
    "Types_of_file = {\"atheism\", \"autos\", \"graphics\", \"medicine\", \"motorcycles\", \"religion\", \"space\"}\n",
    "File_counts = 300 #0-299 0 might be invalid\n",
    "\n",
    "\n",
    "\n",
    "def format_file_name(task_type, file_type,file_number,train_docs=\"train_docs\"):\n",
    "    if \"cl\" == task_type:\n",
    "        return Classification + file_type + \"/\" + train_docs + \"/\" + file_type + \"_file{}.txt\".format(file_number)\n",
    "    elif \"sp\" == task_type:\n",
    "        if \"modified\" not in train_docs:\n",
    "            return Spelling+ file_type + \"/\" + train_docs + \"/\" + file_type + \"_file{}.txt\".format(file_number)\n",
    "        else:\n",
    "            return Spelling+ file_type + \"/\" + train_docs + \"/\" + file_type + \"_file{}_modified.txt\".format(file_number)\n",
    "    else:\n",
    "        return None\n",
    "# print(format_file_name(\"sp\", \"religion\", 4,\"train_docs\"))\n",
    "# print(os.path.exists(format_file_name(\"sp\", \"religion\", 4),))\n",
    "\n",
    "def read_file(task_type: str, file_type: str, file_number: int, train_docs=\"train_docs\"):\n",
    "    file_name = format_file_name(task_type, file_type, file_number, train_docs)\n",
    "    if os.path.exists(file_name):\n",
    "        with open(file_name) as f:\n",
    "            return f.read()\n",
    "    return \"\"\n",
    "\n",
    "def tokenize(file_content: str):\n",
    "    return word_tokenize(file_content)\n",
    "       \n",
    "def bow(tokens: [str]):\n",
    "    return Counter(tokens)\n",
    "\n",
    "def handle_file(task_type: str, file_type: str, file_number: int, train_docs=\"train_docs\"):\n",
    "    return bow(tokenize(read_file(task_type, file_type, file_number, train_docs)))\n",
    "\n",
    "\n",
    "def build_unary_model(c: Counter):\n",
    "    total = sum(c.values())\n",
    "    new_counter = Counter()\n",
    "    new_counter.update(c)\n",
    "    for i in c:\n",
    "        new_counter[i] = c[i] / total\n",
    "    return new_counter\n",
    "\n",
    "def assign_probability_unary(c: Counter)->[tuple]:\n",
    "    lower_bound = 0\n",
    "    ret = []\n",
    "    for i in c:\n",
    "        ret.append((lower_bound, lower_bound+c[i], i))\n",
    "        lower_bound += c[i]\n",
    "    return ret\n",
    "    \n",
    "    \n",
    "\n",
    "def unary_random_word_generation(probability: [tuple]):\n",
    "    low, high = 0, len(probability) - 1\n",
    "    random_int = random.random()\n",
    "    \n",
    "    while random_int >= probability[-1][1]:\n",
    "        random_int = random.random() #normalize\n",
    "        \n",
    "    while (low <= high):\n",
    "        mid = (low + high) // 2\n",
    "        if probability[mid][0] > random_int:\n",
    "            high = mid - 1\n",
    "        elif probability[mid][1] <= random_int:\n",
    "            low = mid + 1\n",
    "        else:\n",
    "            return probability[mid][2]\n",
    "\n",
    "def unary_random_n_words_generation(probability, n):\n",
    "    ret = ''\n",
    "    for i in range(n):\n",
    "        ret += \" \" + unary_random_word_generation(probability)\n",
    "    return ret\n",
    "\n",
    "def unary_random_sentence_generation(task_type, file_type, sentence_length, train_docs=\"train_docs\"):\n",
    "    C = Counter()\n",
    "    for i in range(300):\n",
    "        C.update(handle_file(task_type, file_type, i, train_docs))\n",
    "    model = build_unary_model(C)\n",
    "    return unary_random_n_words_generation(assign_probability_unary(model), sentence_length)\n",
    "            \n",
    "sample = handle_file(\"sp\", \"graphics\", \"10\", \"train_modified_docs\")\n",
    "unary_model = build_unary_model(sample)\n",
    "probability_unary_model = assign_probability_unary(unary_model)\n",
    "unary_random_sentence_generation('sp,'autos,)\n"
   ]
  },
  {
   "cell_type": "code",
   "execution_count": 39,
   "metadata": {
    "collapsed": false
   },
   "outputs": [
    {
     "data": {
      "text/plain": [
       "0"
      ]
     },
     "execution_count": 39,
     "metadata": {},
     "output_type": "execute_result"
    }
   ],
   "source": [
    "c = Counter()\n",
    "c.update(None)\n",
    "len(c)"
   ]
  },
  {
   "cell_type": "code",
   "execution_count": 40,
   "metadata": {
    "collapsed": false
   },
   "outputs": [
    {
     "ename": "FileNotFoundError",
     "evalue": "[Errno 2] No such file or directory: 'efaef'",
     "output_type": "error",
     "traceback": [
      "\u001b[0;31m---------------------------------------------------------------------------\u001b[0m",
      "\u001b[0;31mFileNotFoundError\u001b[0m                         Traceback (most recent call last)",
      "\u001b[0;32m<ipython-input-40-73eb8c96169c>\u001b[0m in \u001b[0;36m<module>\u001b[0;34m()\u001b[0m\n\u001b[0;32m----> 1\u001b[0;31m \u001b[0;32mwith\u001b[0m \u001b[0mopen\u001b[0m\u001b[0;34m(\u001b[0m\u001b[0;34m'efaef'\u001b[0m\u001b[0;34m)\u001b[0m \u001b[0;32mas\u001b[0m \u001b[0mf\u001b[0m\u001b[0;34m:\u001b[0m\u001b[0;34m\u001b[0m\u001b[0m\n\u001b[0m\u001b[1;32m      2\u001b[0m     \u001b[0mprint\u001b[0m\u001b[0;34m(\u001b[0m\u001b[0mf\u001b[0m\u001b[0;34m.\u001b[0m\u001b[0mread\u001b[0m\u001b[0;34m(\u001b[0m\u001b[0;34m)\u001b[0m\u001b[0;34m)\u001b[0m\u001b[0;34m\u001b[0m\u001b[0m\n",
      "\u001b[0;31mFileNotFoundError\u001b[0m: [Errno 2] No such file or directory: 'efaef'"
     ]
    }
   ],
   "source": []
  },
  {
   "cell_type": "code",
   "execution_count": null,
   "metadata": {
    "collapsed": true
   },
   "outputs": [],
   "source": []
  }
 ],
 "metadata": {
  "kernelspec": {
   "display_name": "Python 3",
   "language": "python",
   "name": "python3"
  },
  "language_info": {
   "codemirror_mode": {
    "name": "ipython",
    "version": 3
   },
   "file_extension": ".py",
   "mimetype": "text/x-python",
   "name": "python",
   "nbconvert_exporter": "python",
   "pygments_lexer": "ipython3",
   "version": "3.5.2"
  }
 },
 "nbformat": 4,
 "nbformat_minor": 1
}
